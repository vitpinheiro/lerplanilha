{
 "cells": [
  {
   "cell_type": "code",
   "execution_count": 2,
   "metadata": {},
   "outputs": [],
   "source": [
    "import pandas as pd\n",
    "from datetime import datetime"
   ]
  },
  {
   "cell_type": "code",
   "execution_count": 3,
   "metadata": {},
   "outputs": [],
   "source": [
    "arquivo_demonstrativo = r\"Unimed Extrato 08-24 em 05-08-24 - Copia (1).xls\"\n",
    "\n",
    "arquivo_atendimentos = r\"Atendimentos_22-08-2024_15h53m16s.xlsx\"\n"
   ]
  },
  {
   "cell_type": "code",
   "execution_count": 4,
   "metadata": {},
   "outputs": [],
   "source": [
    "nomes_colunas_guias = ['Guia', 'Dt item']\n",
    "\n",
    "df_demonstrativo = pd.read_excel(arquivo_demonstrativo, engine='xlrd')\n",
    "df_demonstrativo = df_demonstrativo[nomes_colunas_guias]\n",
    "df_demonstrativo = df_demonstrativo.astype(str)\n",
    "df_atendimentos = pd.read_excel(arquivo_atendimentos)\n",
    "df_atendimentos = df_atendimentos.astype(str)"
   ]
  }
 ],
 "metadata": {
  "kernelspec": {
   "display_name": "Python 3",
   "language": "python",
   "name": "python3"
  },
  "language_info": {
   "codemirror_mode": {
    "name": "ipython",
    "version": 3
   },
   "file_extension": ".py",
   "mimetype": "text/x-python",
   "name": "python",
   "nbconvert_exporter": "python",
   "pygments_lexer": "ipython3",
   "version": "3.12.4"
  }
 },
 "nbformat": 4,
 "nbformat_minor": 2
}
